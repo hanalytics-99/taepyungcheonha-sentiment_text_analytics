{
 "cells": [
  {
   "cell_type": "code",
   "execution_count": null,
   "metadata": {},
   "outputs": [],
   "source": [
    "# 정규표현식 기반 문장 분리  & KSS는 과도함.\n",
    "import re\n",
    "\n",
    "def split_sentences(text):\n",
    "    # 예외처리된 분리 로직\n",
    "    pattern = re.compile(r'(?<!\\w\\.\\w.)(?<![A-Z][a-z]\\.)(?<=\\.|\\?|\\!)\\s+')\n",
    "    return pattern.split(text)\n",
    "\n",
    "# 적용\n",
    "with open(\"/Users/jeonghaheon/Desktop/2025/빅데이터최신기술/채만식-태평천하.txt\", \"r\", encoding=\"utf-8\") as f:\n",
    "    text = f.read()\n",
    "\n",
    "sentences = split_sentences(text)\n",
    "\n",
    "# 저장\n",
    "import pandas as pd\n",
    "df = pd.DataFrame({\"문장번호\": range(1, len(sentences)+1), \"문장내용\": sentences})\n",
    "df.to_csv(\"/Users/jeonghaheon/Desktop/2025/빅데이터최신기술/태평천하_문장분리결과.csv\", index=False, encoding=\"utf-8-sig\")\n",
    "\n",
    "print(f\"✅ 총 {len(sentences)}문장 분리 완료 및 저장됨.\")\n"
   ]
  }
 ],
 "metadata": {
  "kernelspec": {
   "display_name": "base",
   "language": "python",
   "name": "python3"
  },
  "language_info": {
   "name": "python",
   "version": "3.11.7"
  }
 },
 "nbformat": 4,
 "nbformat_minor": 2
}
