{
 "cells": [
  {
   "cell_type": "markdown",
   "metadata": {},
   "source": [
    "# 1. 데이터 전처리\n"
   ]
  },
  {
   "cell_type": "code",
   "execution_count": null,
   "metadata": {},
   "outputs": [
    {
     "name": "stdout",
     "output_type": "stream",
     "text": [
      "총 2455문장 분리 완료 및 저장됨.\n"
     ]
    }
   ],
   "source": [
    "# 정규표현식 기반 문장 분리 but kss는 용량 너무 큼\n",
    "import re\n",
    "import pandas as pd\n",
    "\n",
    "def split_sentences(text):\n",
    "    # 예외처리된 분리 로직\n",
    "    pattern = re.compile(r'(?<!\\w\\.\\w.)(?<![A-Z][a-z]\\.)(?<=\\.|\\?|\\!)\\s+')\n",
    "    return pattern.split(text)\n",
    "\n",
    "# 적용\n",
    "with open(\"/Users/jeonghaheon/Documents/GitHub/taepyungcheonha-sentiment_text_analytics/data/채만식-태평천하.txt\", \"r\", encoding=\"utf-8\") as f:\n",
    "    text = f.read()\n",
    "\n",
    "sentences = split_sentences(text)\n",
    "\n",
    "# 저장\n",
    "df = pd.DataFrame({\"문장번호\": range(1, len(sentences)+1), \"문장내용\": sentences})\n",
    "df.to_csv(\"/Users/jeonghaheon/Documents/GitHub/taepyungcheonha-sentiment_text_analytics/data/태평천하_문장분리결과.csv\", index=False, encoding=\"utf-8-sig\")\n",
    "\n",
    "print(f\"총 {len(sentences)}문장 분리 완료 및 저장됨.\")\n"
   ]
  },
  {
   "cell_type": "markdown",
   "metadata": {},
   "source": [
    "정규표현식 간단하지만 문장 구분이 세부적이지 않아서 로직 수정해야 될듯 \n"
   ]
  },
  {
   "cell_type": "code",
   "execution_count": 2,
   "metadata": {},
   "outputs": [
    {
     "name": "stdout",
     "output_type": "stream",
     "text": [
      "문장 분리 완료: 총 5750문장\n",
      "저장 경로: /Users/jeonghaheon/Documents/GitHub/taepyungcheonha-sentiment_text_analytics/data/태평천하_문장분리결과_쉼표포함.csv\n"
     ]
    }
   ],
   "source": [
    "# 문장 분리 함수 (정규표현식 + 쉼표 분리 포함)\n",
    "def split_sentences_with_commas(text):\n",
    "    # 마침표, 느낌표, 물음표 기준 정규표현식 분리\n",
    "    sentence_pattern = re.compile(r'(?<!\\w\\.\\w.)(?<![A-Z][a-z]\\.)(?<=\\.|\\?|\\!)\\s+')\n",
    "    base_sentences = sentence_pattern.split(text)\n",
    "\n",
    "    # 쉼표가 1개 이상 있는 문장은 쉼표 기준 추가 분리\n",
    "    refined_sentences = []\n",
    "    for sent in base_sentences:\n",
    "        if ',' in sent:\n",
    "            parts = [s.strip() for s in sent.split(\",\") if s.strip()]\n",
    "            refined_sentences.extend(parts)\n",
    "        else:\n",
    "            refined_sentences.append(sent.strip())\n",
    "\n",
    "    return refined_sentences\n",
    "\n",
    "# 텍스트 불러오기\n",
    "with open(\"/Users/jeonghaheon/Documents/GitHub/taepyungcheonha-sentiment_text_analytics/data/채만식-태평천하.txt\", \"r\", encoding=\"utf-8\") as f:\n",
    "    full_text = f.read()\n",
    "\n",
    "# 문장 분리 실행\n",
    "sentences = split_sentences_with_commas(full_text)\n",
    "\n",
    "# 결과 저장\n",
    "df = pd.DataFrame({\"문장번호\": range(1, len(sentences) + 1), \"문장내용\": sentences})\n",
    "save_path = \"/Users/jeonghaheon/Documents/GitHub/taepyungcheonha-sentiment_text_analytics/data/태평천하_문장분리결과_쉼표포함.csv\"\n",
    "df.to_csv(save_path, index=False, encoding=\"utf-8-sig\")\n",
    "\n",
    "print(f\"문장 분리 완료: 총 {len(sentences)}문장\")\n",
    "print(f\"저장 경로: {save_path}\")\n"
   ]
  },
  {
   "cell_type": "markdown",
   "metadata": {},
   "source": [
    "나쁘지 않다 이제 형태소 분석 해보자 "
   ]
  },
  {
   "cell_type": "markdown",
   "metadata": {},
   "source": [
    "형태소 분석 테스트\n"
   ]
  },
  {
   "cell_type": "code",
   "execution_count": 3,
   "metadata": {},
   "outputs": [
    {
     "name": "stdout",
     "output_type": "stream",
     "text": [
      "형태소 분석 완료 및 저장: //Users/jeonghaheon/Documents/GitHub/taepyungcheonha-sentiment_text_analytics/data/태평천하_Okt형태소분석결과.csv\n"
     ]
    },
    {
     "data": {
      "text/html": [
       "<div>\n",
       "<style scoped>\n",
       "    .dataframe tbody tr th:only-of-type {\n",
       "        vertical-align: middle;\n",
       "    }\n",
       "\n",
       "    .dataframe tbody tr th {\n",
       "        vertical-align: top;\n",
       "    }\n",
       "\n",
       "    .dataframe thead th {\n",
       "        text-align: right;\n",
       "    }\n",
       "</style>\n",
       "<table border=\"1\" class=\"dataframe\">\n",
       "  <thead>\n",
       "    <tr style=\"text-align: right;\">\n",
       "      <th></th>\n",
       "      <th>문장번호</th>\n",
       "      <th>문장내용</th>\n",
       "      <th>형태소(단어만)</th>\n",
       "    </tr>\n",
       "  </thead>\n",
       "  <tbody>\n",
       "    <tr>\n",
       "      <th>0</th>\n",
       "      <td>1</td>\n",
       "      <td>太　平　天　下[태평천하]\\n 1.</td>\n",
       "      <td>[태평천하]</td>\n",
       "    </tr>\n",
       "    <tr>\n",
       "      <th>1</th>\n",
       "      <td>2</td>\n",
       "      <td>尹直員[윤직원] 영감 歸宅之圖[ 귀택 지도] 추석을 지나 이윽고 짙어가는 가을해가 ...</td>\n",
       "      <td>[윤직, 영감, 귀택, 지도, 추석, 지나, 이윽고, 짙다, 가을, 하다, 물기, ...</td>\n",
       "    </tr>\n",
       "    <tr>\n",
       "      <th>2</th>\n",
       "      <td>3</td>\n",
       "      <td>저 계동(桂洞)의 이름난 장자(富者[부자]) 윤직원(尹直員) 영감이 마침 어디 출입...</td>\n",
       "      <td>[저, 계동, 의, 이름나다, 장자, 부자, 윤직, 영감, 마침, 어디, 출입, 하...</td>\n",
       "    </tr>\n",
       "    <tr>\n",
       "      <th>3</th>\n",
       "      <td>4</td>\n",
       "      <td>간밤에 꿈을 잘못 꾸었던지</td>\n",
       "      <td>[간밤, 꿈, 잘못, 꾸다]</td>\n",
       "    </tr>\n",
       "    <tr>\n",
       "      <th>4</th>\n",
       "      <td>5</td>\n",
       "      <td>오늘 아침에 마누라하고 다툼질을 하고 나왔던지</td>\n",
       "      <td>[오늘, 아침, 마누라, 다툼, 질, 하다, 나오다]</td>\n",
       "    </tr>\n",
       "    <tr>\n",
       "      <th>5</th>\n",
       "      <td>6</td>\n",
       "      <td>아뭏든 엔간히 일수 좋지 못한 인력거꾼입니다.</td>\n",
       "      <td>[아뭏, 엔간하다, 일수, 좋다, 못, 인력거, 이다]</td>\n",
       "    </tr>\n",
       "    <tr>\n",
       "      <th>6</th>\n",
       "      <td>7</td>\n",
       "      <td>여느 평탄한 길로 끌고오기도 무던히 힘이 들었는데 골목쟁이로 들어서서는 빗밋이 경사...</td>\n",
       "      <td>[여느, 평탄하다, 길, 끄다, 기도, 무덥다, 힘, 들다, 골목쟁이, 들어서다, ...</td>\n",
       "    </tr>\n",
       "    <tr>\n",
       "      <th>7</th>\n",
       "      <td>8</td>\n",
       "      <td>엄살이 아니라 정말 혀가 나올 뻔했읍니다.</td>\n",
       "      <td>[엄살, 아니다, 정말, 혀, 나오다, 뻔하다, 읍니]</td>\n",
       "    </tr>\n",
       "    <tr>\n",
       "      <th>8</th>\n",
       "      <td>9</td>\n",
       "      <td>28관</td>\n",
       "      <td>[관]</td>\n",
       "    </tr>\n",
       "    <tr>\n",
       "      <th>9</th>\n",
       "      <td>10</td>\n",
       "      <td>하고도 6백 몸메!……\\n 윤직원 영감의 이 체중은</td>\n",
       "      <td>[백, 몸메, 윤직, 영감, 이, 체중]</td>\n",
       "    </tr>\n",
       "  </tbody>\n",
       "</table>\n",
       "</div>"
      ],
      "text/plain": [
       "   문장번호                                               문장내용  \\\n",
       "0     1                                 太　平　天　下[태평천하]\\n 1.   \n",
       "1     2  尹直員[윤직원] 영감 歸宅之圖[ 귀택 지도] 추석을 지나 이윽고 짙어가는 가을해가 ...   \n",
       "2     3  저 계동(桂洞)의 이름난 장자(富者[부자]) 윤직원(尹直員) 영감이 마침 어디 출입...   \n",
       "3     4                                     간밤에 꿈을 잘못 꾸었던지   \n",
       "4     5                          오늘 아침에 마누라하고 다툼질을 하고 나왔던지   \n",
       "5     6                          아뭏든 엔간히 일수 좋지 못한 인력거꾼입니다.   \n",
       "6     7  여느 평탄한 길로 끌고오기도 무던히 힘이 들었는데 골목쟁이로 들어서서는 빗밋이 경사...   \n",
       "7     8                            엄살이 아니라 정말 혀가 나올 뻔했읍니다.   \n",
       "8     9                                                28관   \n",
       "9    10                       하고도 6백 몸메!……\\n 윤직원 영감의 이 체중은   \n",
       "\n",
       "                                            형태소(단어만)  \n",
       "0                                             [태평천하]  \n",
       "1  [윤직, 영감, 귀택, 지도, 추석, 지나, 이윽고, 짙다, 가을, 하다, 물기, ...  \n",
       "2  [저, 계동, 의, 이름나다, 장자, 부자, 윤직, 영감, 마침, 어디, 출입, 하...  \n",
       "3                                    [간밤, 꿈, 잘못, 꾸다]  \n",
       "4                      [오늘, 아침, 마누라, 다툼, 질, 하다, 나오다]  \n",
       "5                     [아뭏, 엔간하다, 일수, 좋다, 못, 인력거, 이다]  \n",
       "6  [여느, 평탄하다, 길, 끄다, 기도, 무덥다, 힘, 들다, 골목쟁이, 들어서다, ...  \n",
       "7                     [엄살, 아니다, 정말, 혀, 나오다, 뻔하다, 읍니]  \n",
       "8                                                [관]  \n",
       "9                             [백, 몸메, 윤직, 영감, 이, 체중]  "
      ]
     },
     "execution_count": 3,
     "metadata": {},
     "output_type": "execute_result"
    }
   ],
   "source": [
    "from konlpy.tag import Okt\n",
    "\n",
    "input_path = \"/Users/jeonghaheon/Documents/GitHub/taepyungcheonha-sentiment_text_analytics/data/태평천하_문장분리결과_쉼표포함.csv\"\n",
    "save_path = \"//Users/jeonghaheon/Documents/GitHub/taepyungcheonha-sentiment_text_analytics/data/태평천하_Okt형태소분석결과.csv\"\n",
    "\n",
    "# 데이터 \n",
    "df = pd.read_csv(input_path)\n",
    "\n",
    "# Okt 형태소 분석기 준비\n",
    "okt = Okt()\n",
    "\n",
    "# 분석 결과 저장용 컬럼 \n",
    "df[\"형태소(품사)\"] = df[\"문장내용\"].apply(lambda x: okt.pos(str(x), stem=True))\n",
    "df[\"형태소(단어만)\"] = df[\"형태소(품사)\"].apply(lambda pos: [w for w, p in pos if p in [\"Noun\", \"Adjective\", \"Verb\"]])\n",
    "\n",
    "df.to_csv(save_path, index=False, encoding=\"utf-8-sig\")\n",
    "\n",
    "print(f\"형태소 분석 완료 및 저장: {save_path}\")\n",
    "\n",
    "# 잘 됐는지 보게 상위 10개만 출력\n",
    "df[[\"문장번호\", \"문장내용\", \"형태소(단어만)\"]].head(10)\n"
   ]
  },
  {
   "cell_type": "markdown",
   "metadata": {},
   "source": [
    "형태소 분석 감정(풍자 관련) 태깅"
   ]
  },
  {
   "cell_type": "code",
   "execution_count": 4,
   "metadata": {},
   "outputs": [
    {
     "name": "stdout",
     "output_type": "stream",
     "text": [
      "감정유형 태깅 완료 및 저장: /Users/jeonghaheon/Documents/GitHub/taepyungcheonha-sentiment_text_analytics/data/태평천하_감정유형태깅_최종.csv\n"
     ]
    }
   ],
   "source": [
    "input_path = \"/Users/jeonghaheon/Documents/GitHub/taepyungcheonha-sentiment_text_analytics/data/태평천하_Okt형태소분석결과.csv\"\n",
    "save_path = \"/Users/jeonghaheon/Documents/GitHub/taepyungcheonha-sentiment_text_analytics/data/태평천하_감정유형태깅_최종.csv\"\n",
    "\n",
    "# 감정 기준 사전 (직접 만든것)\n",
    "criteria = {\n",
    "    \"반어\": [\n",
    "        \"고맙다\", \"감사하다\", \"참\", \"정말\", \"과연\", \"역시\", \"대단하다\", \"멋지다\", \"훌륭하다\", \"정중하다\",\n",
    "        \"점잖다\", \"기품있다\", \"깨끗하다\", \"좋다\", \"잘하다\", \"그렇다\", \"그런가\", \"그럴까\", \"그럴 리\", \"그래\",\n",
    "        \"기다리다\", \"이해하다\", \"감탄하다\", \"고맙구만\", \"납셨구만\", \"천하태평이로세\", \"덕분이다네\", \"말씀을 곱게도 하시네\"\n",
    "    ],\n",
    "    \"과장\": [\n",
    "        \"태평하다\", \"넘치다\", \"완벽하다\", \"천하\", \"풍년이다\", \"굉장하다\", \"화려하다\", \"찬란하다\", \"거창하다\",\n",
    "        \"엄청나다\", \"비현실적이다\", \"황홀하다\", \"장엄하다\", \"영광스럽다\", \"무한하다\", \"어마어마하다\", \"극진하다\",\n",
    "        \"위대하다\", \"성대하다\", \"유난스럽다\", \"전대미문이다\", \"삼천리\", \"하늘이 울렸다\", \"만고에 없을 일\"\n",
    "    ],\n",
    "    \"대조\": [\n",
    "        \"없다\", \"굶다\", \"양반\", \"싸다\", \"비싸다\", \"지나다\", \"달라지다\", \"차이나다\", \"변하다\", \"가난하다\", \n",
    "        \"풍요롭다\", \"대비되다\", \"뒤바뀌다\", \"역전되다\", \"낙차나다\", \"구분되다\", \"엇갈리다\", \"뒤섞이다\", \"상충하다\"\n",
    "    ],\n",
    "    \"조롱\": [\n",
    "        \"비웃다\", \"비꼬다\", \"깔보다\", \"우습다\", \"우롱하다\", \"놀리다\", \"비하하다\", \"멸시하다\", \"헛웃음짓다\",\n",
    "        \"코웃음치다\", \"허풍떨다\", \"속이다\", \"한심하다\", \"얄밉다\", \"냉소하다\", \"비아냥거리다\", \"야유하다\", \n",
    "        \"무시하다\", \"기죽이다\", \"영감탱이답군요\", \"팔자 좋으셔\", \"사돈 남 말 하시네\", \"허세 작렬이로군\"\n",
    "    ],\n",
    "    \"감탄\": [\n",
    "        \"허허\", \"참\", \"정말\", \"맙소사\", \"어머나\", \"어이없다\", \"놀랍다\", \"깜짝놀라다\", \"얼마나\", \"무척\", \n",
    "        \"몹시\", \"진짜\", \"우와\", \"허참\", \"어찌된\", \"세상에\", \"헐\", \"헉\", \"기가 막히다\", \"허허 이럴 수가\"\n",
    "    ]\n",
    "}\n",
    "\n",
    "# 감정유형 태깅 함수\n",
    "def tag_emotion(words):\n",
    "    matched = []\n",
    "    for tag, keywords in criteria.items():\n",
    "        if any(word in keywords for word in words):\n",
    "            matched.append(tag)\n",
    "    return \", \".join(sorted(set(matched))) if matched else \"\"\n",
    "\n",
    "def extract_keywords(words):\n",
    "    result = []\n",
    "    for tag, keywords in criteria.items():\n",
    "        result += [w for w in words if w in keywords]\n",
    "    return \", \".join(sorted(set(result)))\n",
    "\n",
    "df = pd.read_csv(input_path)\n",
    "\n",
    "# 감정단어 감정유형 태깅\n",
    "df[\"감정단어\"] = df[\"형태소(단어만)\"].apply(eval).apply(extract_keywords)\n",
    "df[\"감정유형\"] = df[\"형태소(단어만)\"].apply(eval).apply(tag_emotion)\n",
    "\n",
    "# 저장\n",
    "df.to_csv(save_path, index=False, encoding=\"utf-8-sig\")\n",
    "print(f\"감정유형 태깅 완료 및 저장: {save_path}\")\n"
   ]
  },
  {
   "cell_type": "markdown",
   "metadata": {},
   "source": [
    "# 2. 간단한 데이터 탐색\n"
   ]
  },
  {
   "cell_type": "markdown",
   "metadata": {},
   "source": [
    "현재 시점 : 형태소 분석 -> 풍자(감정유형)의 종류도 태깅 완료 이제는 감정 유형 분포 확인"
   ]
  },
  {
   "cell_type": "code",
   "execution_count": 47,
   "metadata": {},
   "outputs": [
    {
     "name": "stdout",
     "output_type": "stream",
     "text": [
      "시점별 감정유형 분석 완료\n",
      "결과 CSV 저장: /Users/jeonghaheon/Documents/GitHub/taepyungcheonha-sentiment_text_analytics/data/태평천하_시점별_감정유형분포.csv\n"
     ]
    },
    {
     "data": {
      "image/png": "[encoded data removed]",
      "text/plain": [
       "<Figure size 1000x600 with 1 Axes>"
      ]
     },
     "metadata": {},
     "output_type": "display_data"
    }
   ],
   "source": [
    "from collections import Counter\n",
    "import matplotlib.pyplot as plt\n",
    "\n",
    "path = \"/Users/jeonghaheon/Documents/GitHub/taepyungcheonha-sentiment_text_analytics/data/태평천하_감정유형태깅_최종.csv\"\n",
    "df = pd.read_csv(path)\n",
    "\n",
    "# 시점 범위 (책 읽고 직접 추출 - 시점별로 )\n",
    "slices = {\n",
    "    \"시점1\": (1, 549),\n",
    "    \"시점2\": (550, 1100),\n",
    "    \"시점3\": (1101, 3654),\n",
    "    \"시점4\": (3655, df[\"문장번호\"].max())\n",
    "}\n",
    "\n",
    "results = []\n",
    "\n",
    "# 시점별 감정유형 카운트\n",
    "for stage, (start, end) in slices.items():\n",
    "    sub = df[(df[\"문장번호\"] >= start) & (df[\"문장번호\"] <= end)]\n",
    "    emotions = []\n",
    "    for val in sub[\"감정유형\"].dropna():\n",
    "        emotions += [e.strip() for e in val.split(\",\") if e.strip()]\n",
    "    count = Counter(emotions)\n",
    "    for emotion, freq in count.items():\n",
    "        results.append({\"시점\": stage, \"감정유형\": emotion, \"빈도수\": freq})\n",
    "\n",
    "# 데이터프레임으로 정리\n",
    "summary = pd.DataFrame(results)\n",
    "pivot = summary.pivot(index=\"감정유형\", columns=\"시점\", values=\"빈도수\").fillna(0).astype(int)\n",
    "\n",
    "# 저장\n",
    "pivot_path = \"/Users/jeonghaheon/Documents/GitHub/taepyungcheonha-sentiment_text_analytics/data/태평천하_시점별_감정유형분포.csv\"\n",
    "pivot.to_csv(pivot_path, encoding=\"utf-8-sig\")\n",
    "\n",
    "import matplotlib as mpl\n",
    "mpl.rc('font', family='AppleGothic')\n",
    "plt.rcParams['axes.unicode_minus'] = False\n",
    "\n",
    "# 시각화\n",
    "pivot.T.plot(kind=\"bar\", figsize=(10, 6), title=\"시점별 감정유형 분포\")\n",
    "plt.xlabel(\"시점\")\n",
    "plt.ylabel(\"문장 수\")\n",
    "plt.xticks(rotation=0)\n",
    "plt.tight_layout()\n",
    "plt.savefig(\"/Users/jeonghaheon/Documents/GitHub/taepyungcheonha-sentiment_text_analytics/data/시점별_감정유형_분포그래프.png\")\n",
    "\n",
    "print(\"시점별 감정유형 분석 완료\")\n",
    "print(\"결과 CSV 저장:\", pivot_path)\n"
   ]
  },
  {
   "cell_type": "markdown",
   "metadata": {},
   "source": [
    "시점별 문장의 양이 다르기 때문에 비율로 계산해봐야 한다"
   ]
  },
  {
   "cell_type": "code",
   "execution_count": 49,
   "metadata": {},
   "outputs": [
    {
     "name": "stdout",
     "output_type": "stream",
     "text": [
      " 시점별 감정유형 비율 분석 완료\n",
      " 저장: /Users/jeonghaheon/Documents/GitHub/taepyungcheonha-sentiment_text_analytics/data/태평천하_시점별_감정유형비율.csv\n"
     ]
    },
    {
     "data": {
      "image/png": "[encoded data removed]",
      "text/plain": [
       "<Figure size 1000x600 with 1 Axes>"
      ]
     },
     "metadata": {},
     "output_type": "display_data"
    }
   ],
   "source": [
    "path = \"/Users/jeonghaheon/Documents/GitHub/taepyungcheonha-sentiment_text_analytics/data/태평천하_감정유형태깅_최종.csv\"\n",
    "df = pd.read_csv(path)\n",
    "\n",
    "# 시점 범위 정의\n",
    "slices = {\n",
    "    \"시점1\": (1, 549),\n",
    "    \"시점2\": (550, 1100),\n",
    "    \"시점3\": (1101, 3654),\n",
    "    \"시점4\": (3655, df[\"문장번호\"].max())\n",
    "}\n",
    "\n",
    "# 감정유형 카운트 → 비율 변환\n",
    "results = []\n",
    "\n",
    "for stage, (start, end) in slices.items():\n",
    "    sub = df[(df[\"문장번호\"] >= start) & (df[\"문장번호\"] <= end)]\n",
    "    total = len(sub)\n",
    "    emotions = []\n",
    "    for val in sub[\"감정유형\"].dropna():\n",
    "        emotions += [e.strip() for e in val.split(\",\") if e.strip()]\n",
    "    count = Counter(emotions)\n",
    "    for emotion, freq in count.items():\n",
    "        percent = round(freq / total * 100, 2)\n",
    "        results.append({\"시점\": stage, \"감정유형\": emotion, \"비율(%)\": percent})\n",
    "\n",
    "# 데이터 정리\n",
    "summary = pd.DataFrame(results)\n",
    "pivot = summary.pivot(index=\"감정유형\", columns=\"시점\", values=\"비율(%)\").fillna(0)\n",
    "\n",
    "# 저장\n",
    "pivot_path = \"/Users/jeonghaheon/Documents/GitHub/taepyungcheonha-sentiment_text_analytics/data/태평천하_시점별_감정유형비율.csv\"\n",
    "pivot.to_csv(pivot_path, encoding=\"utf-8-sig\")\n",
    "\n",
    "# 시각화\n",
    "pivot.T.plot(kind=\"bar\", figsize=(10, 6), title=\"시점별 감정유형 비율\")\n",
    "plt.xlabel(\"시점\")\n",
    "plt.ylabel(\"비율 (%)\")\n",
    "plt.xticks(rotation=0)\n",
    "plt.tight_layout()\n",
    "plt.savefig(\"/Users/jeonghaheon/Documents/GitHub/taepyungcheonha-sentiment_text_analytics/data/시점별_감정유형_비율그래프.png\")\n",
    "\n",
    "print(\" 시점별 감정유형 비율 분석 완료\")\n",
    "print(\" 저장:\", pivot_path)\n"
   ]
  }
 ],
 "metadata": {
  "kernelspec": {
   "display_name": "base",
   "language": "python",
   "name": "python3"
  },
  "language_info": {
   "codemirror_mode": {
    "name": "ipython",
    "version": 3
   },
   "file_extension": ".py",
   "mimetype": "text/x-python",
   "name": "python",
   "nbconvert_exporter": "python",
   "pygments_lexer": "ipython3",
   "version": "3.11.7"
  }
 },
 "nbformat": 4,
 "nbformat_minor": 2
}
